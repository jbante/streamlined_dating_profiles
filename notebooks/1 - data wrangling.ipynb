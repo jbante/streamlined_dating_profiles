{
 "cells": [
  {
   "cell_type": "code",
   "execution_count": 1,
   "metadata": {
    "ExecuteTime": {
     "end_time": "2020-08-05T18:35:11.337836Z",
     "start_time": "2020-08-05T18:35:09.744950Z"
    }
   },
   "outputs": [],
   "source": [
    "import warnings\n",
    "\n",
    "import numpy as np\n",
    "import pandas as pd\n",
    "\n",
    "import utility as utl\n",
    "\n",
    "warnings.filterwarnings('ignore')"
   ]
  },
  {
   "cell_type": "code",
   "execution_count": 2,
   "metadata": {
    "ExecuteTime": {
     "end_time": "2020-08-05T18:36:00.239119Z",
     "start_time": "2020-08-05T18:35:11.340772Z"
    }
   },
   "outputs": [
    {
     "name": "stdout",
     "output_type": "stream",
     "text": [
      "<class 'pandas.core.frame.DataFrame'>\n",
      "RangeIndex: 68371 entries, 0 to 68370\n",
      "Columns: 2625 entries, q2 to CA_items\n",
      "dtypes: float64(59), object(2566)\n",
      "memory usage: 1.3+ GB\n"
     ]
    }
   ],
   "source": [
    "# load user profile data\n",
    "profiles_path = '../source_data/okcupid_2015/user_data_public.csv'\n",
    "profiles = pd.read_csv(profiles_path, delimiter=\",\", low_memory=False)\n",
    "profiles.info()"
   ]
  },
  {
   "cell_type": "code",
   "execution_count": 3,
   "metadata": {
    "ExecuteTime": {
     "end_time": "2020-08-05T18:36:06.227116Z",
     "start_time": "2020-08-05T18:36:00.242479Z"
    }
   },
   "outputs": [],
   "source": [
    "df = profiles.replace(to_replace='-', value=np.nan)  # missing values"
   ]
  },
  {
   "cell_type": "code",
   "execution_count": 4,
   "metadata": {
    "ExecuteTime": {
     "end_time": "2020-08-05T18:36:09.834932Z",
     "start_time": "2020-08-05T18:36:06.229408Z"
    }
   },
   "outputs": [],
   "source": [
    "# consolidate \"looking for people who want\" values that are similar from the\n",
    "# perspective of users looking for dates.\n",
    "# this re-coding is an oversimplification for other purposes.\n",
    "want_recode = {\n",
    "    np.nan: np.nan,\n",
    "    'All who like bi men': 'All who like bi men',\n",
    "    'All who like bi women': 'All who like bi women',\n",
    "    'Bi men': 'Bi men',  # for code re-execution convenience\n",
    "    'Bi men only': 'Bi men',  # does not occur in data set\n",
    "    'Bi women': 'Bi women',  # for code re-execution convenience\n",
    "    'Bi women only': 'Bi women',\n",
    "    'Bi men and women': 'Bi men and women',\n",
    "    'Everybody': 'Everyone',\n",
    "    'Everyone': 'Everyone',\n",
    "    'Gay men only': 'Men who like men',\n",
    "    'Gay women only': 'Women who like women',\n",
    "    'Men': 'Men',\n",
    "    'Men who like men': 'Men who like men',\n",
    "    'Men who like women': 'Men who like women',\n",
    "    'Straight men only': 'Men who like women',\n",
    "    'Straight women only': 'Women who like men',\n",
    "    'Women': 'Women',\n",
    "    'Women who like men': 'Women who like men',\n",
    "    'Women who like women': 'Women who like women',\n",
    "}\n",
    "df['lf_want'] = df['lf_want'].apply(lambda x: want_recode[x])\n",
    "\n",
    "\n",
    "def binary_coder(true_code):\n",
    "    def f(value):\n",
    "        if isinstance(value, float) and np.isnan(value):\n",
    "            return value\n",
    "        return 1 if value in true_code else 0\n",
    "\n",
    "    return f\n",
    "\n",
    "\n",
    "lf_men_set = [\n",
    "    'All who like bi men',\n",
    "    'All who like bi women',\n",
    "    'Bi men',\n",
    "    'Bi men and women',\n",
    "    'Everyone',\n",
    "    'Men',\n",
    "    'Men who like men',\n",
    "    'Men who like women',\n",
    "]\n",
    "df[\"lf_men\"] = df['lf_want'].apply(binary_coder(lf_men_set))\n",
    "\n",
    "lf_women_set = [\n",
    "    'All who like bi men',\n",
    "    'All who like bi women',\n",
    "    'Bi women',\n",
    "    'Bi men and women',\n",
    "    'Everyone',\n",
    "    'Women who like men',\n",
    "    'Women who like women',\n",
    "    'Women',\n",
    "]\n",
    "df[\"lf_women\"] = df['lf_want'].apply(binary_coder(lf_women_set))\n",
    "\n",
    "lf_who_like_men_set = [\n",
    "    'All who like bi men',\n",
    "    'Bi men',\n",
    "    'Bi women',\n",
    "    'Bi men and women',\n",
    "    'Men who like men',\n",
    "    'Women who like men',\n",
    "]\n",
    "df[\"lf_who_like_men\"] = df['lf_want'].apply(binary_coder(lf_who_like_men_set))\n",
    "\n",
    "lf_who_like_women_set = [\n",
    "    'All who like bi women',\n",
    "    'Bi men',\n",
    "    'Bi women',\n",
    "    'Bi men and women',\n",
    "    'Men who like women',\n",
    "    'Women who like women',\n",
    "]\n",
    "df[\"lf_who_like_women\"] = df['lf_want'].apply(\n",
    "    binary_coder(lf_who_like_women_set))"
   ]
  },
  {
   "cell_type": "code",
   "execution_count": 5,
   "metadata": {
    "ExecuteTime": {
     "end_time": "2020-08-05T18:36:17.372257Z",
     "start_time": "2020-08-05T18:36:09.836277Z"
    }
   },
   "outputs": [],
   "source": [
    "# code multi-label variables\n",
    "frames = [\n",
    "    df,\n",
    "    utl.multi_dummies(df['d_ethnicity'], 'eth_'),\n",
    "    utl.multi_dummies(df['lf_for'].str.replace('For  ', ''), 'for_'),\n",
    "    utl.multi_dummies(df['d_gender'], 'g_'),\n",
    "]\n",
    "df = pd.concat(frames, axis=1)"
   ]
  },
  {
   "cell_type": "code",
   "execution_count": 6,
   "metadata": {
    "ExecuteTime": {
     "end_time": "2020-08-05T18:36:23.628469Z",
     "start_time": "2020-08-05T18:36:17.373887Z"
    }
   },
   "outputs": [],
   "source": [
    "# list features in consideration\n",
    "prefixes = ['q', 'd_', 'lf_', 'eth_', 'for_', 'g_', 'orientation_']\n",
    "ignore = [\n",
    "    \"d_age\",\n",
    "    \"d_city\",\n",
    "    \"d_country\",\n",
    "    \"d_ethnicity\",\n",
    "    \"d_gender\",\n",
    "    \"d_languages\",\n",
    "    \"d_orientation\",\n",
    "    \"d_username\",\n",
    "    'lf_for',\n",
    "    'lf_max_age',\n",
    "    'lf_min_age',\n",
    "    'lf_want',\n",
    "]\n",
    "features = [\n",
    "    x for x in df.columns if utl.match_any_prefix(x, prefixes) and (x not in ignore)\n",
    "]\n",
    "df = df[features]"
   ]
  },
  {
   "cell_type": "code",
   "execution_count": 7,
   "metadata": {
    "ExecuteTime": {
     "end_time": "2020-08-05T19:02:02.625188Z",
     "start_time": "2020-08-05T18:36:23.632325Z"
    }
   },
   "outputs": [],
   "source": [
    "# code remaining non-numeric features in-place\n",
    "object_cols = df.select_dtypes(include='object').columns.tolist()\n",
    "# q columns should be treated as categorical even when they contain numeric values\n",
    "object_cols += [x for x in features if x.startswith(\n",
    "    'q') and (x not in object_cols)]\n",
    "\n",
    "feature = []\n",
    "code = []\n",
    "text = []\n",
    "for col in object_cols:\n",
    "    if not col.startswith(\"q\"):\n",
    "        try:\n",
    "            df[col] = df[col].str.lower()\n",
    "        except:\n",
    "            None\n",
    "\n",
    "    df[col], codes = pd.factorize(df[col], na_sentinel=-1)\n",
    "\n",
    "    nans = [utl.value_is_nan(c) for c in codes]\n",
    "    if any(nans):\n",
    "        print(f'NaN value found in {col}')\n",
    "        print(codes)\n",
    "\n",
    "    for c, i in zip(codes, range(len(codes))):\n",
    "        code.append(i)\n",
    "        feature.append(col)\n",
    "        # feather can't handle semicolons\n",
    "        text.append(str(c).replace(';', ','))\n",
    "\n",
    "q_codes = pd.DataFrame({'qid': feature, 'code': code, 'text': text})"
   ]
  },
  {
   "cell_type": "code",
   "execution_count": 8,
   "metadata": {
    "ExecuteTime": {
     "end_time": "2020-08-05T19:02:20.688240Z",
     "start_time": "2020-08-05T19:02:02.629624Z"
    }
   },
   "outputs": [],
   "source": [
    "# drop uninformative columns\n",
    "df = df.replace(to_replace=-1, value=np.nan)\n",
    "n_unique = df.nunique()\n",
    "no_info_columns = df.columns[n_unique < 2]\n",
    "df = df.drop(columns=no_info_columns)"
   ]
  },
  {
   "cell_type": "code",
   "execution_count": 9,
   "metadata": {
    "ExecuteTime": {
     "end_time": "2020-08-05T19:02:24.136054Z",
     "start_time": "2020-08-05T19:02:20.700251Z"
    }
   },
   "outputs": [],
   "source": [
    "# count missing values\n",
    "missing_count = df.isna().sum(axis=1)\n",
    "\n",
    "# use -1 for missing values in final representation\n",
    "df = df.replace(to_replace=np.nan, value=-1).astype('int8')\n",
    "\n",
    "df['missing_count'] = missing_count"
   ]
  },
  {
   "cell_type": "code",
   "execution_count": 10,
   "metadata": {
    "ExecuteTime": {
     "end_time": "2020-08-05T19:02:25.570597Z",
     "start_time": "2020-08-05T19:02:24.137760Z"
    }
   },
   "outputs": [],
   "source": [
    "# save profiles\n",
    "df = df.reset_index().drop('index', axis=1)\n",
    "df.to_feather('../processed_data/profiles.feather')"
   ]
  },
  {
   "cell_type": "code",
   "execution_count": 11,
   "metadata": {
    "ExecuteTime": {
     "end_time": "2020-08-05T19:02:25.585493Z",
     "start_time": "2020-08-05T19:02:25.576746Z"
    }
   },
   "outputs": [],
   "source": [
    "# save q_codes\n",
    "q_codes.to_feather('../processed_data/q_codes.feather')"
   ]
  }
 ],
 "metadata": {
  "kernelspec": {
   "display_name": "Python 3",
   "language": "python",
   "name": "python3"
  },
  "language_info": {
   "codemirror_mode": {
    "name": "ipython",
    "version": 3
   },
   "file_extension": ".py",
   "mimetype": "text/x-python",
   "name": "python",
   "nbconvert_exporter": "python",
   "pygments_lexer": "ipython3",
   "version": "3.7.6"
  },
  "varInspector": {
   "cols": {
    "lenName": "16",
    "lenType": 16,
    "lenVar": 40
   },
   "kernels_config": {
    "python": {
     "delete_cmd_postfix": "",
     "delete_cmd_prefix": "del ",
     "library": "var_list.py",
     "varRefreshCmd": "print(var_dic_list())"
    },
    "r": {
     "delete_cmd_postfix": ") ",
     "delete_cmd_prefix": "rm(",
     "library": "var_list.r",
     "varRefreshCmd": "cat(var_dic_list()) "
    }
   },
   "types_to_exclude": [
    "module",
    "function",
    "builtin_function_or_method",
    "instance",
    "_Feature"
   ],
   "window_display": false
  }
 },
 "nbformat": 4,
 "nbformat_minor": 4
}
