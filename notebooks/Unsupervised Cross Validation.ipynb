{
 "cells": [
  {
   "cell_type": "code",
   "execution_count": 1,
   "metadata": {},
   "outputs": [
    {
     "data": {
      "application/javascript": [
       "\n",
       "            setTimeout(function() {\n",
       "                var nbb_cell_id = 1;\n",
       "                var nbb_unformatted_code = \"import catboost as cb\\nfrom importlib import reload\\nimport itertools as itr\\nimport functools as fn\\nimport entropy as ent\\nimport numba as nb\\nimport numpy as np\\nimport pandas as pd\\nimport parametersearch as ps\\nimport scipy.spatial.distance as dist\\nimport scipy.stats as st\\nimport sklearn.cluster as cls\\nimport sklearn.metrics as met\\nimport umap\\nimport unsupervisedcv as ucv\\nimport utility as utl\\nimport warnings\\n\\n%load_ext nb_black\\n\\nwarnings.filterwarnings(\\\"ignore\\\")\";\n",
       "                var nbb_formatted_code = \"import catboost as cb\\nfrom importlib import reload\\nimport itertools as itr\\nimport functools as fn\\nimport entropy as ent\\nimport numba as nb\\nimport numpy as np\\nimport pandas as pd\\nimport parametersearch as ps\\nimport scipy.spatial.distance as dist\\nimport scipy.stats as st\\nimport sklearn.cluster as cls\\nimport sklearn.metrics as met\\nimport umap\\nimport unsupervisedcv as ucv\\nimport utility as utl\\nimport warnings\\n\\n%load_ext nb_black\\n\\nwarnings.filterwarnings(\\\"ignore\\\")\";\n",
       "                var nbb_cells = Jupyter.notebook.get_cells();\n",
       "                for (var i = 0; i < nbb_cells.length; ++i) {\n",
       "                    if (nbb_cells[i].input_prompt_number == nbb_cell_id) {\n",
       "                        if (nbb_cells[i].get_text() == nbb_unformatted_code) {\n",
       "                             nbb_cells[i].set_text(nbb_formatted_code);\n",
       "                        }\n",
       "                        break;\n",
       "                    }\n",
       "                }\n",
       "            }, 500);\n",
       "            "
      ],
      "text/plain": [
       "<IPython.core.display.Javascript object>"
      ]
     },
     "metadata": {},
     "output_type": "display_data"
    }
   ],
   "source": [
    "import functools as fn\n",
    "import itertools as itr\n",
    "import warnings\n",
    "from importlib import reload\n",
    "\n",
    "import catboost as cb\n",
    "import numba as nb\n",
    "import numpy as np\n",
    "import pandas as pd\n",
    "import scipy.spatial.distance as dist\n",
    "import scipy.stats as st\n",
    "import sklearn.cluster as cls\n",
    "import sklearn.metrics as met\n",
    "import umap\n",
    "\n",
    "import entropy as ent\n",
    "import parametersearch as ps\n",
    "import unsupervisedcv as ucv\n",
    "import utility as utl\n",
    "\n",
    "warnings.filterwarnings('ignore')"
   ]
  },
  {
   "cell_type": "code",
   "execution_count": 2,
   "metadata": {},
   "outputs": [
    {
     "data": {
      "application/javascript": [
       "\n",
       "            setTimeout(function() {\n",
       "                var nbb_cell_id = 2;\n",
       "                var nbb_unformatted_code = \"SUBSAMPLE_SIZE = 1000\\nrandy = np.random.default_rng()\";\n",
       "                var nbb_formatted_code = \"SUBSAMPLE_SIZE = 1000\\nrandy = np.random.default_rng()\";\n",
       "                var nbb_cells = Jupyter.notebook.get_cells();\n",
       "                for (var i = 0; i < nbb_cells.length; ++i) {\n",
       "                    if (nbb_cells[i].input_prompt_number == nbb_cell_id) {\n",
       "                        if (nbb_cells[i].get_text() == nbb_unformatted_code) {\n",
       "                             nbb_cells[i].set_text(nbb_formatted_code);\n",
       "                        }\n",
       "                        break;\n",
       "                    }\n",
       "                }\n",
       "            }, 500);\n",
       "            "
      ],
      "text/plain": [
       "<IPython.core.display.Javascript object>"
      ]
     },
     "metadata": {},
     "output_type": "display_data"
    }
   ],
   "source": [
    "SUBSAMPLE_SIZE = 1000\n",
    "randy = np.random.default_rng()"
   ]
  },
  {
   "cell_type": "code",
   "execution_count": 3,
   "metadata": {},
   "outputs": [
    {
     "data": {
      "application/javascript": [
       "\n",
       "            setTimeout(function() {\n",
       "                var nbb_cell_id = 3;\n",
       "                var nbb_unformatted_code = \"# load user profile data\\nprofiles_path = \\\"../source_data/okcupid_2015/user_data_public.csv\\\"\\nprofiles = pd.read_csv(profiles_path, delimiter=\\\",\\\", low_memory=False)\";\n",
       "                var nbb_formatted_code = \"# load user profile data\\nprofiles_path = \\\"../source_data/okcupid_2015/user_data_public.csv\\\"\\nprofiles = pd.read_csv(profiles_path, delimiter=\\\",\\\", low_memory=False)\";\n",
       "                var nbb_cells = Jupyter.notebook.get_cells();\n",
       "                for (var i = 0; i < nbb_cells.length; ++i) {\n",
       "                    if (nbb_cells[i].input_prompt_number == nbb_cell_id) {\n",
       "                        if (nbb_cells[i].get_text() == nbb_unformatted_code) {\n",
       "                             nbb_cells[i].set_text(nbb_formatted_code);\n",
       "                        }\n",
       "                        break;\n",
       "                    }\n",
       "                }\n",
       "            }, 500);\n",
       "            "
      ],
      "text/plain": [
       "<IPython.core.display.Javascript object>"
      ]
     },
     "metadata": {},
     "output_type": "display_data"
    }
   ],
   "source": [
    "# load user profile data\n",
    "profiles_path = '../source_data/okcupid_2015/user_data_public.csv'\n",
    "profiles = pd.read_csv(profiles_path, delimiter=',', low_memory=False)"
   ]
  },
  {
   "cell_type": "code",
   "execution_count": 4,
   "metadata": {},
   "outputs": [
    {
     "data": {
      "application/javascript": [
       "\n",
       "            setTimeout(function() {\n",
       "                var nbb_cell_id = 4;\n",
       "                var nbb_unformatted_code = \"# focus on a subset of the demo data for speed\\nfeatures = [x for x in profiles.columns if x.startswith(\\\"q\\\")]  # questions only\\ndf = profiles[features].sample(SUBSAMPLE_SIZE)\\n\\n# code categorical features in-place\\ncodes = {}\\nfor col in features:\\n    df[col], codes[col] = df[col].factorize()\\n\\n# recode missing values from factorize() as np.nan\\ndf = df.replace(to_replace=-1, value=np.nan)\";\n",
       "                var nbb_formatted_code = \"# focus on a subset of the demo data for speed\\nfeatures = [x for x in profiles.columns if x.startswith(\\\"q\\\")]  # questions only\\ndf = profiles[features].sample(SUBSAMPLE_SIZE)\\n\\n# code categorical features in-place\\ncodes = {}\\nfor col in features:\\n    df[col], codes[col] = df[col].factorize()\\n\\n# recode missing values from factorize() as np.nan\\ndf = df.replace(to_replace=-1, value=np.nan)\";\n",
       "                var nbb_cells = Jupyter.notebook.get_cells();\n",
       "                for (var i = 0; i < nbb_cells.length; ++i) {\n",
       "                    if (nbb_cells[i].input_prompt_number == nbb_cell_id) {\n",
       "                        if (nbb_cells[i].get_text() == nbb_unformatted_code) {\n",
       "                             nbb_cells[i].set_text(nbb_formatted_code);\n",
       "                        }\n",
       "                        break;\n",
       "                    }\n",
       "                }\n",
       "            }, 500);\n",
       "            "
      ],
      "text/plain": [
       "<IPython.core.display.Javascript object>"
      ]
     },
     "metadata": {},
     "output_type": "display_data"
    }
   ],
   "source": [
    "# focus on a subset of the demo data for speed\n",
    "features = [x for x in profiles.columns if x.startswith('q')]  # questions only\n",
    "df = profiles[features].sample(SUBSAMPLE_SIZE)\n",
    "\n",
    "# code categorical features in-place\n",
    "codes = {}\n",
    "for col in features:\n",
    "    df[col], codes[col] = df[col].factorize()\n",
    "\n",
    "# recode missing values from factorize() as np.nan\n",
    "df = df.replace(to_replace=-1, value=np.nan)"
   ]
  },
  {
   "cell_type": "code",
   "execution_count": 5,
   "metadata": {},
   "outputs": [
    {
     "data": {
      "application/javascript": [
       "\n",
       "            setTimeout(function() {\n",
       "                var nbb_cell_id = 5;\n",
       "                var nbb_unformatted_code = \"hamming = ent.hamming_ind_entropy_func(df)\";\n",
       "                var nbb_formatted_code = \"hamming = ent.hamming_ind_entropy_func(df)\";\n",
       "                var nbb_cells = Jupyter.notebook.get_cells();\n",
       "                for (var i = 0; i < nbb_cells.length; ++i) {\n",
       "                    if (nbb_cells[i].input_prompt_number == nbb_cell_id) {\n",
       "                        if (nbb_cells[i].get_text() == nbb_unformatted_code) {\n",
       "                             nbb_cells[i].set_text(nbb_formatted_code);\n",
       "                        }\n",
       "                        break;\n",
       "                    }\n",
       "                }\n",
       "            }, 500);\n",
       "            "
      ],
      "text/plain": [
       "<IPython.core.display.Javascript object>"
      ]
     },
     "metadata": {},
     "output_type": "display_data"
    }
   ],
   "source": [
    "hamming = ent.hamming_ind_entropy_func(df)"
   ]
  },
  {
   "cell_type": "code",
   "execution_count": 6,
   "metadata": {},
   "outputs": [
    {
     "data": {
      "text/plain": [
       "array([9, 8, 9, 9, 8, 9, 9, 8, 9, 9])"
      ]
     },
     "execution_count": 6,
     "metadata": {},
     "output_type": "execute_result"
    },
    {
     "data": {
      "application/javascript": [
       "\n",
       "            setTimeout(function() {\n",
       "                var nbb_cell_id = 6;\n",
       "                var nbb_unformatted_code = \"# demo agreement-based cross validation\\n# this compares agreement between estimates made on different combinations of folds,\\n# without lining-up outputs by folds that both estimates are based on\\n\\n\\ndef top_n_columns(df, n):\\n    \\\"\\\"\\\"Returns names of the top n columns in a DataFrame with the highest entropy\\\"\\\"\\\"\\n    return ent.entropy(df).sort_values(ascending=False).index.tolist()[:n]\\n\\n\\ndef top_n_score(a, b):\\n    \\\"\\\"\\\"Scores the agreement for top_n_columns as the number of columns that appear in both results\\\"\\\"\\\"\\n    return sum(x in b for x in a)\\n\\n\\nucv.agreement_cross_val(top_n_score, fn.partial(top_n_columns, n=10), df)\";\n",
       "                var nbb_formatted_code = \"# demo agreement-based cross validation\\n# this compares agreement between estimates made on different combinations of folds,\\n# without lining-up outputs by folds that both estimates are based on\\n\\n\\ndef top_n_columns(df, n):\\n    \\\"\\\"\\\"Returns names of the top n columns in a DataFrame with the highest entropy\\\"\\\"\\\"\\n    return ent.entropy(df).sort_values(ascending=False).index.tolist()[:n]\\n\\n\\ndef top_n_score(a, b):\\n    \\\"\\\"\\\"Scores the agreement for top_n_columns as the number of columns that appear in both results\\\"\\\"\\\"\\n    return sum(x in b for x in a)\\n\\n\\nucv.agreement_cross_val(top_n_score, fn.partial(top_n_columns, n=10), df)\";\n",
       "                var nbb_cells = Jupyter.notebook.get_cells();\n",
       "                for (var i = 0; i < nbb_cells.length; ++i) {\n",
       "                    if (nbb_cells[i].input_prompt_number == nbb_cell_id) {\n",
       "                        if (nbb_cells[i].get_text() == nbb_unformatted_code) {\n",
       "                             nbb_cells[i].set_text(nbb_formatted_code);\n",
       "                        }\n",
       "                        break;\n",
       "                    }\n",
       "                }\n",
       "            }, 500);\n",
       "            "
      ],
      "text/plain": [
       "<IPython.core.display.Javascript object>"
      ]
     },
     "metadata": {},
     "output_type": "display_data"
    }
   ],
   "source": [
    "# demo agreement-based cross validation\n",
    "# this compares agreement between estimates made on different combinations of folds,\n",
    "# without lining-up outputs by folds that both estimates are based on\n",
    "\n",
    "\n",
    "def top_n_columns(df, n):\n",
    "    \"\"\"Returns names of the top n columns in a DataFrame with the highest entropy\"\"\"\n",
    "    return ent.entropy(df).sort_values(ascending=False).index.tolist()[:n]\n",
    "\n",
    "\n",
    "def top_n_score(a, b):\n",
    "    \"\"\"Scores the agreement for top_n_columns as the number of columns that appear in both results\"\"\"\n",
    "    return sum(x in b for x in a)\n",
    "\n",
    "\n",
    "ucv.agreement_cross_val(top_n_score, fn.partial(top_n_columns, n=10), df)"
   ]
  },
  {
   "cell_type": "code",
   "execution_count": 7,
   "metadata": {
    "scrolled": false
   },
   "outputs": [
    {
     "data": {
      "text/plain": [
       "array([0.356088  , 0.31595105, 0.33475683, 0.36104202, 0.3330996 ,\n",
       "       0.27246886, 0.34324092, 0.28542174, 0.31286132, 0.32109321])"
      ]
     },
     "execution_count": 7,
     "metadata": {},
     "output_type": "execute_result"
    },
    {
     "data": {
      "application/javascript": [
       "\n",
       "            setTimeout(function() {\n",
       "                var nbb_cell_id = 7;\n",
       "                var nbb_unformatted_code = \"# demo overlap-based cross validation\\n# this compares agreement between estimates made on different combinations of folds,\\n# giving the score_func the opportunity to line up outputs row-by-row corresponding\\n# to the same input rows within the folds shared by each pair of estimates\\ndef ham_umap_embedding(X):\\n    \\\"\\\"\\\"Uses hamming distance to create 1D UMAP embedding\\\"\\\"\\\"\\n    dist_matrix = dist.squareform(dist.pdist(X, hamming))\\n    return umap.UMAP(metric=\\\"precomputed\\\", n_components=1).fit_transform(dist_matrix)\\n\\n\\ndef ham_umap_cluster(X, n_clusters=8):\\n    return cls.KMeans(n_clusters=n_clusters).fit_predict(ham_umap_embedding(X))\\n\\n\\nucv.overlap_cross_val(\\n    met.adjusted_mutual_info_score, fn.partial(ham_umap_cluster, n_clusters=5), df,\\n)\";\n",
       "                var nbb_formatted_code = \"# demo overlap-based cross validation\\n# this compares agreement between estimates made on different combinations of folds,\\n# giving the score_func the opportunity to line up outputs row-by-row corresponding\\n# to the same input rows within the folds shared by each pair of estimates\\ndef ham_umap_embedding(X):\\n    \\\"\\\"\\\"Uses hamming distance to create 1D UMAP embedding\\\"\\\"\\\"\\n    dist_matrix = dist.squareform(dist.pdist(X, hamming))\\n    return umap.UMAP(metric=\\\"precomputed\\\", n_components=1).fit_transform(dist_matrix)\\n\\n\\ndef ham_umap_cluster(X, n_clusters=8):\\n    return cls.KMeans(n_clusters=n_clusters).fit_predict(ham_umap_embedding(X))\\n\\n\\nucv.overlap_cross_val(\\n    met.adjusted_mutual_info_score, fn.partial(ham_umap_cluster, n_clusters=5), df,\\n)\";\n",
       "                var nbb_cells = Jupyter.notebook.get_cells();\n",
       "                for (var i = 0; i < nbb_cells.length; ++i) {\n",
       "                    if (nbb_cells[i].input_prompt_number == nbb_cell_id) {\n",
       "                        if (nbb_cells[i].get_text() == nbb_unformatted_code) {\n",
       "                             nbb_cells[i].set_text(nbb_formatted_code);\n",
       "                        }\n",
       "                        break;\n",
       "                    }\n",
       "                }\n",
       "            }, 500);\n",
       "            "
      ],
      "text/plain": [
       "<IPython.core.display.Javascript object>"
      ]
     },
     "metadata": {},
     "output_type": "display_data"
    }
   ],
   "source": [
    "# demo overlap-based cross validation\n",
    "# this compares agreement between estimates made on different combinations of folds,\n",
    "# giving the score_func the opportunity to line up outputs row-by-row corresponding\n",
    "# to the same input rows within the folds shared by each pair of estimates\n",
    "\n",
    "\n",
    "def ham_umap_embedding(X):\n",
    "    \"\"\"Uses hamming distance to create 1D UMAP embedding\"\"\"\n",
    "    dist_matrix = dist.squareform(dist.pdist(X, hamming))\n",
    "    return umap.UMAP(metric='precomputed', n_components=1).fit_transform(dist_matrix)\n",
    "\n",
    "\n",
    "def ham_umap_cluster(X, n_clusters=8):\n",
    "    return cls.KMeans(n_clusters=n_clusters).fit_predict(ham_umap_embedding(X))\n",
    "\n",
    "\n",
    "ucv.overlap_cross_val(\n",
    "    met.adjusted_mutual_info_score, fn.partial(\n",
    "        ham_umap_cluster, n_clusters=5), df,\n",
    ")"
   ]
  },
  {
   "cell_type": "code",
   "execution_count": 8,
   "metadata": {},
   "outputs": [
    {
     "data": {
      "text/plain": [
       "array([-0.52588344,  0.9038821 ,  0.92516013,  0.9161221 , -0.21561074])"
      ]
     },
     "execution_count": 8,
     "metadata": {},
     "output_type": "execute_result"
    },
    {
     "data": {
      "application/javascript": [
       "\n",
       "            setTimeout(function() {\n",
       "                var nbb_cell_id = 8;\n",
       "                var nbb_unformatted_code = \"# demo non-overlap-based cross validation\\n# this compares agreement between models trained on different combinations of folds\\n# by comparing their predictions on a fold that neither was trained on, and giving\\n# the score_func the opportunity to line up outputs row-by-row corresponding to the\\n# same input rows within each scoring fold\\n\\n\\ndef catboost_predictor(X, y):\\n    \\\"\\\"\\\"Returns a function for making predictions based on a CatBoost model\\\"\\\"\\\"\\n    model = cb.CatBoostRegressor(\\n        iterations=100, depth=3, loss_function=\\\"RMSE\\\", logging_level=\\\"Silent\\\"\\n    )\\n    model.fit(X, y)\\n\\n    return model.predict\\n\\n\\nucv.nonoverlap_cross_val(\\n    lambda a, b: st.pearsonr(a, b)[0],\\n    lambda x: catboost_predictor(x, ham_umap_embedding(x)),\\n    df,\\n)\";\n",
       "                var nbb_formatted_code = \"# demo non-overlap-based cross validation\\n# this compares agreement between models trained on different combinations of folds\\n# by comparing their predictions on a fold that neither was trained on, and giving\\n# the score_func the opportunity to line up outputs row-by-row corresponding to the\\n# same input rows within each scoring fold\\n\\n\\ndef catboost_predictor(X, y):\\n    \\\"\\\"\\\"Returns a function for making predictions based on a CatBoost model\\\"\\\"\\\"\\n    model = cb.CatBoostRegressor(\\n        iterations=100, depth=3, loss_function=\\\"RMSE\\\", logging_level=\\\"Silent\\\"\\n    )\\n    model.fit(X, y)\\n\\n    return model.predict\\n\\n\\nucv.nonoverlap_cross_val(\\n    lambda a, b: st.pearsonr(a, b)[0],\\n    lambda x: catboost_predictor(x, ham_umap_embedding(x)),\\n    df,\\n)\";\n",
       "                var nbb_cells = Jupyter.notebook.get_cells();\n",
       "                for (var i = 0; i < nbb_cells.length; ++i) {\n",
       "                    if (nbb_cells[i].input_prompt_number == nbb_cell_id) {\n",
       "                        if (nbb_cells[i].get_text() == nbb_unformatted_code) {\n",
       "                             nbb_cells[i].set_text(nbb_formatted_code);\n",
       "                        }\n",
       "                        break;\n",
       "                    }\n",
       "                }\n",
       "            }, 500);\n",
       "            "
      ],
      "text/plain": [
       "<IPython.core.display.Javascript object>"
      ]
     },
     "metadata": {},
     "output_type": "display_data"
    }
   ],
   "source": [
    "# demo non-overlap-based cross validation\n",
    "# this compares agreement between models trained on different combinations of folds\n",
    "# by comparing their predictions on a fold that neither was trained on, and giving\n",
    "# the score_func the opportunity to line up outputs row-by-row corresponding to the\n",
    "# same input rows within each scoring fold\n",
    "\n",
    "\n",
    "def catboost_predictor(X, y):\n",
    "    \"\"\"Returns a function for making predictions based on a CatBoost model\"\"\"\n",
    "    model = cb.CatBoostRegressor(\n",
    "        iterations=100, depth=3, loss_function='RMSE', logging_level='Silent'\n",
    "    )\n",
    "    model.fit(X, y)\n",
    "\n",
    "    return model.predict\n",
    "\n",
    "\n",
    "ucv.nonoverlap_cross_val(\n",
    "    lambda a, b: st.pearsonr(a, b)[0],\n",
    "    lambda x: catboost_predictor(x, ham_umap_embedding(x)),\n",
    "    df,\n",
    ")"
   ]
  },
  {
   "cell_type": "code",
   "execution_count": 9,
   "metadata": {},
   "outputs": [
    {
     "data": {
      "application/javascript": [
       "\n",
       "            setTimeout(function() {\n",
       "                var nbb_cell_id = 9;\n",
       "                var nbb_unformatted_code = \"distance_matrix = dist.squareform(dist.pdist(df, hamming))\";\n",
       "                var nbb_formatted_code = \"distance_matrix = dist.squareform(dist.pdist(df, hamming))\";\n",
       "                var nbb_cells = Jupyter.notebook.get_cells();\n",
       "                for (var i = 0; i < nbb_cells.length; ++i) {\n",
       "                    if (nbb_cells[i].input_prompt_number == nbb_cell_id) {\n",
       "                        if (nbb_cells[i].get_text() == nbb_unformatted_code) {\n",
       "                             nbb_cells[i].set_text(nbb_formatted_code);\n",
       "                        }\n",
       "                        break;\n",
       "                    }\n",
       "                }\n",
       "            }, 500);\n",
       "            "
      ],
      "text/plain": [
       "<IPython.core.display.Javascript object>"
      ]
     },
     "metadata": {},
     "output_type": "display_data"
    }
   ],
   "source": [
    "distance_matrix = dist.squareform(dist.pdist(df, hamming))"
   ]
  },
  {
   "cell_type": "code",
   "execution_count": 10,
   "metadata": {
    "scrolled": false
   },
   "outputs": [
    {
     "data": {
      "text/plain": [
       "array([0.5053673 , 0.54217419, 0.53671507, 0.53725389, 0.52910807])"
      ]
     },
     "execution_count": 10,
     "metadata": {},
     "output_type": "execute_result"
    },
    {
     "data": {
      "application/javascript": [
       "\n",
       "            setTimeout(function() {\n",
       "                var nbb_cell_id = 10;\n",
       "                var nbb_unformatted_code = \"# demo cross validation with distance matrix data\\n# sklearn cross validation doesn't properly split a distance matrix into folds\\nucv.embedding_cross_val(\\n    lambda a, b: st.pearsonr(dist.pdist(a, \\\"euclidean\\\"), dist.squareform(b))[0],\\n    lambda x: umap.UMAP(metric=\\\"precomputed\\\", n_components=4).fit_transform(x),\\n    distance_matrix,\\n    dist_matrix_data=True,\\n)\";\n",
       "                var nbb_formatted_code = \"# demo cross validation with distance matrix data\\n# sklearn cross validation doesn't properly split a distance matrix into folds\\nucv.embedding_cross_val(\\n    lambda a, b: st.pearsonr(dist.pdist(a, \\\"euclidean\\\"), dist.squareform(b))[0],\\n    lambda x: umap.UMAP(metric=\\\"precomputed\\\", n_components=4).fit_transform(x),\\n    distance_matrix,\\n    dist_matrix_data=True,\\n)\";\n",
       "                var nbb_cells = Jupyter.notebook.get_cells();\n",
       "                for (var i = 0; i < nbb_cells.length; ++i) {\n",
       "                    if (nbb_cells[i].input_prompt_number == nbb_cell_id) {\n",
       "                        if (nbb_cells[i].get_text() == nbb_unformatted_code) {\n",
       "                             nbb_cells[i].set_text(nbb_formatted_code);\n",
       "                        }\n",
       "                        break;\n",
       "                    }\n",
       "                }\n",
       "            }, 500);\n",
       "            "
      ],
      "text/plain": [
       "<IPython.core.display.Javascript object>"
      ]
     },
     "metadata": {},
     "output_type": "display_data"
    }
   ],
   "source": [
    "# demo cross validation with distance matrix data\n",
    "# sklearn cross validation doesn't properly split a distance matrix into folds\n",
    "ucv.embedding_cross_val(\n",
    "    lambda a, b: st.pearsonr(dist.pdist(\n",
    "        a, 'euclidean'), dist.squareform(b))[0],\n",
    "    lambda x: umap.UMAP(metric='precomputed', n_components=4).fit_transform(x),\n",
    "    distance_matrix,\n",
    "    dist_matrix_data=True,\n",
    ")"
   ]
  },
  {
   "cell_type": "code",
   "execution_count": 12,
   "metadata": {
    "scrolled": false
   },
   "outputs": [
    {
     "name": "stdout",
     "output_type": "stream",
     "text": [
      "best score: 0.5406593934960883\n",
      "best parameters: {'n_components': 6, 'min_dist': 0.3601666422825574}\n"
     ]
    },
    {
     "data": {
      "application/javascript": [
       "\n",
       "            setTimeout(function() {\n",
       "                var nbb_cell_id = 12;\n",
       "                var nbb_unformatted_code = \"# demo random parameter search\\ndef emb_umap(X, **kwargs):\\n    \\\"\\\"\\\"Uses hamming distance to create UMAP embedding\\\"\\\"\\\"\\n    return umap.UMAP(metric=\\\"precomputed\\\", **kwargs).fit_transform(X)\\n\\n\\ndef emb_score(a, b):\\n    a_dist = dist.pdist(a, \\\"euclidean\\\")\\n    b_dist = dist.squareform(b)\\n    r, _ = st.pearsonr(a_dist, b_dist)\\n    return r\\n\\n\\ndef param_rng(rng=randy):\\n    return {\\n        \\\"n_components\\\": rng.integers(2, int(np.ceil(np.log2(len(df))))),\\n        \\\"min_dist\\\": rng.uniform(0.01, 0.99),\\n    }\\n\\n\\ndef demo_cross_val(rng=randy, **kwargs):\\n    scores = ucv.embedding_cross_val(\\n        emb_score,\\n        lambda x: emb_umap(x, **kwargs),\\n        data=distance_matrix,\\n        dist_matrix_data=True,\\n        rng=rng,\\n    )\\n    return np.mean(scores)\\n\\n\\nbest_params, best_score = ps.random_search(\\n    param_rng, demo_cross_val, n_iter=32, n_jobs=-1\\n)\\n\\nprint(f\\\"best score: {best_score}\\\")\\nprint(f\\\"best parameters: {best_params}\\\")\";\n",
       "                var nbb_formatted_code = \"# demo random parameter search\\ndef emb_umap(X, **kwargs):\\n    \\\"\\\"\\\"Uses hamming distance to create UMAP embedding\\\"\\\"\\\"\\n    return umap.UMAP(metric=\\\"precomputed\\\", **kwargs).fit_transform(X)\\n\\n\\ndef emb_score(a, b):\\n    a_dist = dist.pdist(a, \\\"euclidean\\\")\\n    b_dist = dist.squareform(b)\\n    r, _ = st.pearsonr(a_dist, b_dist)\\n    return r\\n\\n\\ndef param_rng(rng=randy):\\n    return {\\n        \\\"n_components\\\": rng.integers(2, int(np.ceil(np.log2(len(df))))),\\n        \\\"min_dist\\\": rng.uniform(0.01, 0.99),\\n    }\\n\\n\\ndef demo_cross_val(rng=randy, **kwargs):\\n    scores = ucv.embedding_cross_val(\\n        emb_score,\\n        lambda x: emb_umap(x, **kwargs),\\n        data=distance_matrix,\\n        dist_matrix_data=True,\\n        rng=rng,\\n    )\\n    return np.mean(scores)\\n\\n\\nbest_params, best_score = ps.random_search(\\n    param_rng, demo_cross_val, n_iter=32, n_jobs=-1\\n)\\n\\nprint(f\\\"best score: {best_score}\\\")\\nprint(f\\\"best parameters: {best_params}\\\")\";\n",
       "                var nbb_cells = Jupyter.notebook.get_cells();\n",
       "                for (var i = 0; i < nbb_cells.length; ++i) {\n",
       "                    if (nbb_cells[i].input_prompt_number == nbb_cell_id) {\n",
       "                        if (nbb_cells[i].get_text() == nbb_unformatted_code) {\n",
       "                             nbb_cells[i].set_text(nbb_formatted_code);\n",
       "                        }\n",
       "                        break;\n",
       "                    }\n",
       "                }\n",
       "            }, 500);\n",
       "            "
      ],
      "text/plain": [
       "<IPython.core.display.Javascript object>"
      ]
     },
     "metadata": {},
     "output_type": "display_data"
    }
   ],
   "source": [
    "# demo random parameter search\n",
    "def emb_umap(X, **kwargs):\n",
    "    \"\"\"Uses hamming distance to create UMAP embedding\"\"\"\n",
    "    return umap.UMAP(metric='precomputed', **kwargs).fit_transform(X)\n",
    "\n",
    "\n",
    "def emb_score(a, b):\n",
    "    a_dist = dist.pdist(a, 'euclidean')\n",
    "    b_dist = dist.squareform(b)\n",
    "    r, _ = st.pearsonr(a_dist, b_dist)\n",
    "    return r\n",
    "\n",
    "\n",
    "def param_rng(rng=randy):\n",
    "    return {\n",
    "        'n_components': rng.integers(2, int(np.ceil(np.log2(len(df))))),\n",
    "        'min_dist': rng.uniform(0.01, 0.99),\n",
    "    }\n",
    "\n",
    "\n",
    "def demo_cross_val(**kwargs):\n",
    "    scores = ucv.embedding_cross_val(\n",
    "        emb_score,\n",
    "        lambda x: emb_umap(x, **kwargs),\n",
    "        data=distance_matrix,\n",
    "        dist_matrix_data=True\n",
    "    )\n",
    "    return np.mean(scores)\n",
    "\n",
    "\n",
    "best_params, best_score = ps.random_search(\n",
    "    param_rng, demo_cross_val, n_iter=32, n_jobs=-1\n",
    ")\n",
    "\n",
    "print(f'best score: {best_score}')\n",
    "print(f'best parameters: {best_params}')"
   ]
  },
  {
   "cell_type": "code",
   "execution_count": 14,
   "metadata": {
    "pixiedust": {
     "displayParams": {}
    }
   },
   "outputs": [
    {
     "data": {
      "text/plain": [
       "({'x': 2.0, 'y': -10, 'wtf': 'a', 'ignore': 0}, 29.0)"
      ]
     },
     "execution_count": 14,
     "metadata": {},
     "output_type": "execute_result"
    },
    {
     "data": {
      "application/javascript": [
       "\n",
       "            setTimeout(function() {\n",
       "                var nbb_cell_id = 14;\n",
       "                var nbb_unformatted_code = \"# demo condensing random parameter search\\ndef demo_func(rng, x, y, wtf, ignore):\\n    if wtf == \\\"a\\\":\\n        return -1 * x ** 2 - 3 * y + 3\\n    elif wtf == \\\"b\\\":\\n        return -2 * x ** 2 - 2 * y + 1\\n    elif wtf == \\\"c\\\":\\n        return -3 * x ** 2 - 1 * y + 2\\n\\n\\nparam_specs = {\\n    \\\"x\\\": {\\\"type\\\": \\\"float\\\", \\\"values\\\": [-2, 2]},\\n    \\\"y\\\": {\\\"type\\\": \\\"int\\\", \\\"values\\\": [-10, 10]},\\n    \\\"wtf\\\": {\\\"type\\\": \\\"categorical\\\", \\\"values\\\": [\\\"a\\\", \\\"b\\\", \\\"c\\\"]},\\n    \\\"ignore\\\": {\\\"type\\\": \\\"constant\\\", \\\"value\\\": 0},\\n}\\n\\nps.condensing_random_search(param_specs, demo_func, max_time=10, n_jobs=-1)\";\n",
       "                var nbb_formatted_code = \"# demo condensing random parameter search\\ndef demo_func(rng, x, y, wtf, ignore):\\n    if wtf == \\\"a\\\":\\n        return -1 * x ** 2 - 3 * y + 3\\n    elif wtf == \\\"b\\\":\\n        return -2 * x ** 2 - 2 * y + 1\\n    elif wtf == \\\"c\\\":\\n        return -3 * x ** 2 - 1 * y + 2\\n\\n\\nparam_specs = {\\n    \\\"x\\\": {\\\"type\\\": \\\"float\\\", \\\"values\\\": [-2, 2]},\\n    \\\"y\\\": {\\\"type\\\": \\\"int\\\", \\\"values\\\": [-10, 10]},\\n    \\\"wtf\\\": {\\\"type\\\": \\\"categorical\\\", \\\"values\\\": [\\\"a\\\", \\\"b\\\", \\\"c\\\"]},\\n    \\\"ignore\\\": {\\\"type\\\": \\\"constant\\\", \\\"value\\\": 0},\\n}\\n\\nps.condensing_random_search(param_specs, demo_func, max_time=10, n_jobs=-1)\";\n",
       "                var nbb_cells = Jupyter.notebook.get_cells();\n",
       "                for (var i = 0; i < nbb_cells.length; ++i) {\n",
       "                    if (nbb_cells[i].input_prompt_number == nbb_cell_id) {\n",
       "                        if (nbb_cells[i].get_text() == nbb_unformatted_code) {\n",
       "                             nbb_cells[i].set_text(nbb_formatted_code);\n",
       "                        }\n",
       "                        break;\n",
       "                    }\n",
       "                }\n",
       "            }, 500);\n",
       "            "
      ],
      "text/plain": [
       "<IPython.core.display.Javascript object>"
      ]
     },
     "metadata": {},
     "output_type": "display_data"
    }
   ],
   "source": [
    "# demo condensing random parameter search\n",
    "def demo_func(x, y, wtf, ignore):\n",
    "    if wtf == 'a':\n",
    "        return -1 * x ** 2 - 3 * y + 3\n",
    "    elif wtf == 'b':\n",
    "        return -2 * x ** 2 - 2 * y + 1\n",
    "    elif wtf == 'c':\n",
    "        return -3 * x ** 2 - 1 * y + 2\n",
    "\n",
    "\n",
    "param_specs = {\n",
    "    'x': {'type': 'float', 'values': [-2, 2]},\n",
    "    'y': {'type': 'int', 'values': [-10, 10]},\n",
    "    'wtf': {'type': 'categorical', 'values': ['a', 'b', 'c']},\n",
    "    'ignore': {'type': 'constant', 'value': 0},\n",
    "}\n",
    "\n",
    "ps.condensing_random_search(param_specs, demo_func, max_time=10, n_jobs=-1)"
   ]
  },
  {
   "cell_type": "code",
   "execution_count": 16,
   "metadata": {},
   "outputs": [
    {
     "name": "stdout",
     "output_type": "stream",
     "text": [
      "best score: 0.542242481613807\n",
      "best parameters: {'n_components': 10, 'min_dist': 0.24662001654634388}\n"
     ]
    },
    {
     "data": {
      "application/javascript": [
       "\n",
       "            setTimeout(function() {\n",
       "                var nbb_cell_id = 16;\n",
       "                var nbb_unformatted_code = \"# more condensing random parameter search\\nparam_specs = {\\n    \\\"n_components\\\": ps.param_spec_int([2, int(np.ceil(np.log2(len(df))))]),\\n    \\\"min_dist\\\": ps.param_spec_float([0.01, 0.99]),\\n}\\n\\nbest_params, best_score = ps.condensing_random_search(\\n    param_specs, demo_cross_val, n_iter=32, n_jobs=-1\\n)\\n\\nprint(f\\\"best score: {best_score}\\\")\\nprint(f\\\"best parameters: {best_params}\\\")\";\n",
       "                var nbb_formatted_code = \"# more condensing random parameter search\\nparam_specs = {\\n    \\\"n_components\\\": ps.param_spec_int([2, int(np.ceil(np.log2(len(df))))]),\\n    \\\"min_dist\\\": ps.param_spec_float([0.01, 0.99]),\\n}\\n\\nbest_params, best_score = ps.condensing_random_search(\\n    param_specs, demo_cross_val, n_iter=32, n_jobs=-1\\n)\\n\\nprint(f\\\"best score: {best_score}\\\")\\nprint(f\\\"best parameters: {best_params}\\\")\";\n",
       "                var nbb_cells = Jupyter.notebook.get_cells();\n",
       "                for (var i = 0; i < nbb_cells.length; ++i) {\n",
       "                    if (nbb_cells[i].input_prompt_number == nbb_cell_id) {\n",
       "                        if (nbb_cells[i].get_text() == nbb_unformatted_code) {\n",
       "                             nbb_cells[i].set_text(nbb_formatted_code);\n",
       "                        }\n",
       "                        break;\n",
       "                    }\n",
       "                }\n",
       "            }, 500);\n",
       "            "
      ],
      "text/plain": [
       "<IPython.core.display.Javascript object>"
      ]
     },
     "metadata": {},
     "output_type": "display_data"
    }
   ],
   "source": [
    "# more condensing random parameter search\n",
    "param_specs = {\n",
    "    'n_components': ps.param_spec_int([2, int(np.ceil(np.log2(len(df))))]),\n",
    "    'min_dist': ps.param_spec_float([0.01, 0.99]),\n",
    "}\n",
    "\n",
    "best_params, best_score = ps.condensing_random_search(\n",
    "    param_specs, demo_cross_val, n_iter=32, n_jobs=-1\n",
    ")\n",
    "\n",
    "print(f'best score: {best_score}')\n",
    "print(f'best parameters: {best_params}')"
   ]
  },
  {
   "cell_type": "code",
   "execution_count": null,
   "metadata": {},
   "outputs": [],
   "source": []
  }
 ],
 "metadata": {
  "kernelspec": {
   "display_name": "Python 3",
   "language": "python",
   "name": "python3"
  },
  "language_info": {
   "codemirror_mode": {
    "name": "ipython",
    "version": 3
   },
   "file_extension": ".py",
   "mimetype": "text/x-python",
   "name": "python",
   "nbconvert_exporter": "python",
   "pygments_lexer": "ipython3",
   "version": "3.7.6"
  },
  "varInspector": {
   "cols": {
    "lenName": "16",
    "lenType": 16,
    "lenVar": 40
   },
   "kernels_config": {
    "python": {
     "delete_cmd_postfix": "",
     "delete_cmd_prefix": "del ",
     "library": "var_list.py",
     "varRefreshCmd": "print(var_dic_list())"
    },
    "r": {
     "delete_cmd_postfix": ") ",
     "delete_cmd_prefix": "rm(",
     "library": "var_list.r",
     "varRefreshCmd": "cat(var_dic_list()) "
    }
   },
   "types_to_exclude": [
    "module",
    "function",
    "builtin_function_or_method",
    "instance",
    "_Feature"
   ],
   "window_display": false
  }
 },
 "nbformat": 4,
 "nbformat_minor": 4
}
